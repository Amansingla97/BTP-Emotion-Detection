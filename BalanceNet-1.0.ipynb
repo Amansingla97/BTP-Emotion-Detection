{
 "cells": [
  {
   "cell_type": "markdown",
   "metadata": {},
   "source": [
    "## BalanceNet prototype"
   ]
  },
  {
   "cell_type": "code",
   "execution_count": 4,
   "metadata": {
    "scrolled": true
   },
   "outputs": [
    {
     "name": "stdout",
     "output_type": "stream",
     "text": [
      "[i] Loaded Parameters:\n",
      " 40000 35 0.2 200 \n",
      " dataset/glove/glove.twitter.27B.200d.txt\n",
      "[i] Importing Modules...\n"
     ]
    },
    {
     "name": "stderr",
     "output_type": "stream",
     "text": [
      "Using TensorFlow backend.\n"
     ]
    },
    {
     "name": "stdout",
     "output_type": "stream",
     "text": [
      "[+] Using Keras version 2.2.4\n",
      "[+] Finished Importing Modules\n",
      "[i] Reading from csv file...Done!\n",
      "[i] Found 34359 unique tokens.\n",
      "[+] Shape of data tensor: (47288, 30)\n",
      "[+] Shape of label tensor: (47288, 5)\n",
      "[i] Number of entries in each category:\n",
      "[+] Training:\n",
      " [ 7725. 13042. 12717.  3452.   895.]\n",
      "[+] Validation:\n",
      " [1918. 3255. 3221.  849.  214.]\n",
      "[i] Loading GloVe from: dataset/glove/glove.twitter.27B.200d.txt ...Done.\n",
      "[+] Proceeding with Embedding Matrix...[i] Completed!\n",
      "[i] Finished running setup.\n"
     ]
    }
   ],
   "source": [
    "%run Setup.ipynb\n",
    "%run ExtraFunctions.ipynb"
   ]
  },
  {
   "cell_type": "code",
   "execution_count": 5,
   "metadata": {},
   "outputs": [
    {
     "name": "stdout",
     "output_type": "stream",
     "text": [
      "Completed!\n"
     ]
    }
   ],
   "source": [
    "# second embedding matrix for non-static channel\n",
    "embedding_matrix_ns = np.random.random((len(word_index) + 1, EMBEDDING_DIM))\n",
    "for word, i in word_index.items():\n",
    "    embedding_vector = embeddings_index.get(word)\n",
    "    if embedding_vector is not None:\n",
    "        # words not found in embedding index will be all-zeros.\n",
    "        embedding_matrix_ns[i] = embedding_vector\n",
    "print(\"Completed!\")"
   ]
  },
  {
   "cell_type": "code",
   "execution_count": 6,
   "metadata": {},
   "outputs": [
    {
     "name": "stdout",
     "output_type": "stream",
     "text": [
      "WARNING:tensorflow:From /usr/local/lib/python3.6/site-packages/tensorflow/python/framework/op_def_library.py:263: colocate_with (from tensorflow.python.framework.ops) is deprecated and will be removed in a future version.\n",
      "Instructions for updating:\n",
      "Colocations handled automatically by placer.\n"
     ]
    }
   ],
   "source": [
    "sequence_input = Input(shape=(MAX_SEQUENCE_LENGTH,), dtype='int32')\n",
    "\n",
    "# static channel\n",
    "embedding_layer_frozen = Embedding(len(word_index) + 1,\n",
    "                            EMBEDDING_DIM,\n",
    "                            weights=[embedding_matrix],\n",
    "                            input_length=MAX_SEQUENCE_LENGTH,\n",
    "                            trainable=False)\n",
    "embedded_sequences_frozen = embedding_layer_frozen(sequence_input)\n",
    "\n",
    "# non-static channel\n",
    "embedding_layer_train = Embedding(len(word_index) + 1,\n",
    "                            EMBEDDING_DIM,\n",
    "                            weights=[embedding_matrix_ns],\n",
    "                            input_length=MAX_SEQUENCE_LENGTH,\n",
    "                            trainable=True)\n",
    "embedded_sequences_train = embedding_layer_train(sequence_input)"
   ]
  },
  {
   "cell_type": "markdown",
   "metadata": {},
   "source": [
    "First Half: LSTM > CNN"
   ]
  },
  {
   "cell_type": "code",
   "execution_count": 7,
   "metadata": {},
   "outputs": [
    {
     "name": "stdout",
     "output_type": "stream",
     "text": [
      "WARNING:tensorflow:From /usr/local/lib/python3.6/site-packages/keras/backend/tensorflow_backend.py:3445: calling dropout (from tensorflow.python.ops.nn_ops) with keep_prob is deprecated and will be removed in a future version.\n",
      "Instructions for updating:\n",
      "Please use `rate` instead of `keep_prob`. Rate should be set to `rate = 1 - keep_prob`.\n"
     ]
    }
   ],
   "source": [
    "l_lstm1f = Bidirectional(LSTM(6,return_sequences=True,dropout=0.3, recurrent_dropout=0.0))(embedded_sequences_frozen)\n",
    "l_lstm1t = Bidirectional(LSTM(6,return_sequences=True,dropout=0.3, recurrent_dropout=0.0))(embedded_sequences_train)\n",
    "l_lstm1 = Concatenate(axis=1)([l_lstm1f, l_lstm1t])"
   ]
  },
  {
   "cell_type": "code",
   "execution_count": 8,
   "metadata": {},
   "outputs": [],
   "source": [
    "l_conv_2 = Conv1D(filters=24,kernel_size=2,activation='relu')(l_lstm1)\n",
    "l_conv_2 = Dropout(0.3)(l_conv_2)\n",
    "l_conv_3 = Conv1D(filters=24,kernel_size=3,activation='relu')(l_lstm1)\n",
    "l_conv_3 = Dropout(0.3)(l_conv_3)\n",
    "\n",
    "l_conv_5 = Conv1D(filters=24,kernel_size=5,activation='relu',)(l_lstm1)\n",
    "l_conv_5 = Dropout(0.3)(l_conv_5)\n",
    "l_conv_6 = Conv1D(filters=24,kernel_size=6,activation='relu',kernel_regularizer=regularizers.l2(0.0001))(l_lstm1)\n",
    "l_conv_6 = Dropout(0.3)(l_conv_6)\n",
    "\n",
    "l_conv_8 = Conv1D(filters=24,kernel_size=8,activation='relu',kernel_regularizer=regularizers.l2(0.0001))(l_lstm1)\n",
    "l_conv_8 = Dropout(0.3)(l_conv_8)\n",
    "\n",
    "conv_1 = [l_conv_6,l_conv_5, l_conv_8,l_conv_2,l_conv_3]\n",
    "\n",
    "l_lstm_c = Concatenate(axis=1)(conv_1)"
   ]
  },
  {
   "cell_type": "markdown",
   "metadata": {},
   "source": [
    "Second Half: CNN > LSTM"
   ]
  },
  {
   "cell_type": "code",
   "execution_count": 9,
   "metadata": {},
   "outputs": [],
   "source": [
    "l_conv_4f = Conv1D(filters=12,kernel_size=4,activation='relu',kernel_regularizer=regularizers.l2(0.0001))(embedded_sequences_frozen)\n",
    "l_conv_4f = Dropout(0.3)(l_conv_4f)\n",
    "l_conv_4t = Conv1D(filters=12,kernel_size=4,activation='relu',kernel_regularizer=regularizers.l2(0.0001))(embedded_sequences_train)\n",
    "l_conv_4t = Dropout(0.3)(l_conv_4t)\n",
    "\n",
    "l_conv_3f = Conv1D(filters=12,kernel_size=3,activation='relu',)(embedded_sequences_frozen)\n",
    "l_conv_3f = Dropout(0.3)(l_conv_3f)\n",
    "l_conv_3t = Conv1D(filters=12,kernel_size=3,activation='relu',)(embedded_sequences_train)\n",
    "l_conv_3t = Dropout(0.3)(l_conv_3t)\n",
    "\n",
    "l_conv_2f = Conv1D(filters=12,kernel_size=2,activation='relu')(embedded_sequences_frozen)\n",
    "l_conv_2f = Dropout(0.3)(l_conv_2f)\n",
    "l_conv_2t = Conv1D(filters=12,kernel_size=2,activation='relu')(embedded_sequences_train)\n",
    "l_conv_2t = Dropout(0.3)(l_conv_2t)\n",
    "\n",
    "conv_2 = [l_conv_4f, l_conv_4t,l_conv_3f, l_conv_3t, l_conv_2f, l_conv_2t]\n",
    "\n",
    "l_merge_2 = Concatenate(axis=1)(conv_2)\n",
    "l_c_lstm = Bidirectional(LSTM(12,return_sequences=True,dropout=0.3, recurrent_dropout=0.0))(l_merge_2)"
   ]
  },
  {
   "cell_type": "markdown",
   "metadata": {},
   "source": [
    "Combine both halfs of the model"
   ]
  },
  {
   "cell_type": "code",
   "execution_count": 10,
   "metadata": {},
   "outputs": [],
   "source": [
    "l_merge = Concatenate(axis=1)([l_lstm_c, l_c_lstm])\n",
    "l_pool = MaxPooling1D(4)(l_merge)\n",
    "l_drop = Dropout(0.5)(l_pool)\n",
    "l_flat = Flatten()(l_drop)\n",
    "l_dense = Dense(26, activation='relu')(l_flat)\n",
    "preds = Dense(5, activation='softmax')(l_dense)"
   ]
  },
  {
   "cell_type": "code",
   "execution_count": 11,
   "metadata": {},
   "outputs": [],
   "source": [
    "model = Model(sequence_input, preds)\n",
    "adadelta = optimizers.Adadelta(lr=0.9, rho=0.95, epsilon=None, decay=0.002)\n",
    "lr_metric = get_lr_metric(adadelta)\n",
    "model.compile(loss='categorical_crossentropy',\n",
    "              optimizer=adadelta,\n",
    "              metrics=['acc'])"
   ]
  },
  {
   "cell_type": "code",
   "execution_count": 12,
   "metadata": {},
   "outputs": [],
   "source": [
    "!rm -r logs"
   ]
  },
  {
   "cell_type": "code",
   "execution_count": 13,
   "metadata": {},
   "outputs": [],
   "source": [
    "tensorboard = callbacks.TensorBoard(log_dir='./logs', histogram_freq=0, batch_size=16, write_grads=True , write_graph=True)\n",
    "model_checkpoints = callbacks.ModelCheckpoint(\"checkpoint-{val_loss:.3f}.h5\", monitor='val_loss', verbose=0, save_best_only=True, save_weights_only=False, mode='auto', period=0)\n",
    "lr_schedule = callbacks.LearningRateScheduler(initial_boost)"
   ]
  },
  {
   "cell_type": "code",
   "execution_count": 14,
   "metadata": {},
   "outputs": [
    {
     "name": "stdout",
     "output_type": "stream",
     "text": [
      "__________________________________________________________________________________________________\n",
      "Layer (type)                    Output Shape         Param #     Connected to                     \n",
      "==================================================================================================\n",
      "input_1 (InputLayer)            (None, 30)           0                                            \n",
      "__________________________________________________________________________________________________\n",
      "embedding_1 (Embedding)         (None, 30, 200)      6872000     input_1[0][0]                    \n",
      "__________________________________________________________________________________________________\n",
      "embedding_2 (Embedding)         (None, 30, 200)      6872000     input_1[0][0]                    \n",
      "__________________________________________________________________________________________________\n",
      "bidirectional_1 (Bidirectional) (None, 30, 12)       9936        embedding_1[0][0]                \n",
      "__________________________________________________________________________________________________\n",
      "bidirectional_2 (Bidirectional) (None, 30, 12)       9936        embedding_2[0][0]                \n",
      "__________________________________________________________________________________________________\n",
      "concatenate_1 (Concatenate)     (None, 60, 12)       0           bidirectional_1[0][0]            \n",
      "                                                                 bidirectional_2[0][0]            \n",
      "__________________________________________________________________________________________________\n",
      "conv1d_6 (Conv1D)               (None, 27, 12)       9612        embedding_1[0][0]                \n",
      "__________________________________________________________________________________________________\n",
      "conv1d_7 (Conv1D)               (None, 27, 12)       9612        embedding_2[0][0]                \n",
      "__________________________________________________________________________________________________\n",
      "conv1d_8 (Conv1D)               (None, 28, 12)       7212        embedding_1[0][0]                \n",
      "__________________________________________________________________________________________________\n",
      "conv1d_9 (Conv1D)               (None, 28, 12)       7212        embedding_2[0][0]                \n",
      "__________________________________________________________________________________________________\n",
      "conv1d_10 (Conv1D)              (None, 29, 12)       4812        embedding_1[0][0]                \n",
      "__________________________________________________________________________________________________\n",
      "conv1d_11 (Conv1D)              (None, 29, 12)       4812        embedding_2[0][0]                \n",
      "__________________________________________________________________________________________________\n",
      "conv1d_4 (Conv1D)               (None, 55, 24)       1752        concatenate_1[0][0]              \n",
      "__________________________________________________________________________________________________\n",
      "conv1d_3 (Conv1D)               (None, 56, 24)       1464        concatenate_1[0][0]              \n",
      "__________________________________________________________________________________________________\n",
      "conv1d_5 (Conv1D)               (None, 53, 24)       2328        concatenate_1[0][0]              \n",
      "__________________________________________________________________________________________________\n",
      "conv1d_1 (Conv1D)               (None, 59, 24)       600         concatenate_1[0][0]              \n",
      "__________________________________________________________________________________________________\n",
      "conv1d_2 (Conv1D)               (None, 58, 24)       888         concatenate_1[0][0]              \n",
      "__________________________________________________________________________________________________\n",
      "dropout_6 (Dropout)             (None, 27, 12)       0           conv1d_6[0][0]                   \n",
      "__________________________________________________________________________________________________\n",
      "dropout_7 (Dropout)             (None, 27, 12)       0           conv1d_7[0][0]                   \n",
      "__________________________________________________________________________________________________\n",
      "dropout_8 (Dropout)             (None, 28, 12)       0           conv1d_8[0][0]                   \n",
      "__________________________________________________________________________________________________\n",
      "dropout_9 (Dropout)             (None, 28, 12)       0           conv1d_9[0][0]                   \n",
      "__________________________________________________________________________________________________\n",
      "dropout_10 (Dropout)            (None, 29, 12)       0           conv1d_10[0][0]                  \n",
      "__________________________________________________________________________________________________\n",
      "dropout_11 (Dropout)            (None, 29, 12)       0           conv1d_11[0][0]                  \n",
      "__________________________________________________________________________________________________\n",
      "dropout_4 (Dropout)             (None, 55, 24)       0           conv1d_4[0][0]                   \n",
      "__________________________________________________________________________________________________\n",
      "dropout_3 (Dropout)             (None, 56, 24)       0           conv1d_3[0][0]                   \n",
      "__________________________________________________________________________________________________\n",
      "dropout_5 (Dropout)             (None, 53, 24)       0           conv1d_5[0][0]                   \n",
      "__________________________________________________________________________________________________\n",
      "dropout_1 (Dropout)             (None, 59, 24)       0           conv1d_1[0][0]                   \n",
      "__________________________________________________________________________________________________\n",
      "dropout_2 (Dropout)             (None, 58, 24)       0           conv1d_2[0][0]                   \n",
      "__________________________________________________________________________________________________\n",
      "concatenate_3 (Concatenate)     (None, 168, 12)      0           dropout_6[0][0]                  \n",
      "                                                                 dropout_7[0][0]                  \n",
      "                                                                 dropout_8[0][0]                  \n",
      "                                                                 dropout_9[0][0]                  \n",
      "                                                                 dropout_10[0][0]                 \n",
      "                                                                 dropout_11[0][0]                 \n",
      "__________________________________________________________________________________________________\n",
      "concatenate_2 (Concatenate)     (None, 281, 24)      0           dropout_4[0][0]                  \n",
      "                                                                 dropout_3[0][0]                  \n",
      "                                                                 dropout_5[0][0]                  \n",
      "                                                                 dropout_1[0][0]                  \n",
      "                                                                 dropout_2[0][0]                  \n",
      "__________________________________________________________________________________________________\n",
      "bidirectional_3 (Bidirectional) (None, 168, 24)      2400        concatenate_3[0][0]              \n",
      "__________________________________________________________________________________________________\n",
      "concatenate_4 (Concatenate)     (None, 449, 24)      0           concatenate_2[0][0]              \n",
      "                                                                 bidirectional_3[0][0]            \n",
      "__________________________________________________________________________________________________\n",
      "max_pooling1d_1 (MaxPooling1D)  (None, 112, 24)      0           concatenate_4[0][0]              \n",
      "__________________________________________________________________________________________________\n",
      "dropout_12 (Dropout)            (None, 112, 24)      0           max_pooling1d_1[0][0]            \n",
      "__________________________________________________________________________________________________\n",
      "flatten_1 (Flatten)             (None, 2688)         0           dropout_12[0][0]                 \n",
      "__________________________________________________________________________________________________\n",
      "dense_1 (Dense)                 (None, 26)           69914       flatten_1[0][0]                  \n",
      "__________________________________________________________________________________________________\n",
      "dense_2 (Dense)                 (None, 5)            135         dense_1[0][0]                    \n",
      "==================================================================================================\n",
      "Total params: 13,886,625\n",
      "Trainable params: 7,014,625\n",
      "Non-trainable params: 6,872,000\n",
      "__________________________________________________________________________________________________\n"
     ]
    }
   ],
   "source": [
    "model.summary()\n",
    "model.save('BalanceNet.h5')"
   ]
  },
  {
   "cell_type": "code",
   "execution_count": null,
   "metadata": {},
   "outputs": [],
   "source": []
  },
  {
   "cell_type": "code",
   "execution_count": 12,
   "metadata": {
    "scrolled": true
   },
   "outputs": [
    {
     "ename": "OSError",
     "evalue": "Unable to open file (unable to open file: name = 'checkpoint-0.91.h5', errno = 2, error message = 'No such file or directory', flags = 0, o_flags = 0)",
     "output_type": "error",
     "traceback": [
      "\u001b[0;31m---------------------------------------------------------------------------\u001b[0m",
      "\u001b[0;31mOSError\u001b[0m                                   Traceback (most recent call last)",
      "\u001b[0;32m<ipython-input-12-5600c00eefac>\u001b[0m in \u001b[0;36m<module>\u001b[0;34m\u001b[0m\n\u001b[0;32m----> 1\u001b[0;31m \u001b[0mmodel\u001b[0m \u001b[0;34m=\u001b[0m \u001b[0mkeras\u001b[0m\u001b[0;34m.\u001b[0m\u001b[0mmodels\u001b[0m\u001b[0;34m.\u001b[0m\u001b[0mload_model\u001b[0m\u001b[0;34m(\u001b[0m\u001b[0;34m\"checkpoint-0.91.h5\"\u001b[0m\u001b[0;34m)\u001b[0m\u001b[0;34m\u001b[0m\u001b[0;34m\u001b[0m\u001b[0m\n\u001b[0m",
      "\u001b[0;32m/anaconda3/lib/python3.7/site-packages/keras/engine/saving.py\u001b[0m in \u001b[0;36mload_model\u001b[0;34m(filepath, custom_objects, compile)\u001b[0m\n\u001b[1;32m    415\u001b[0m     \u001b[0mmodel\u001b[0m \u001b[0;34m=\u001b[0m \u001b[0;32mNone\u001b[0m\u001b[0;34m\u001b[0m\u001b[0;34m\u001b[0m\u001b[0m\n\u001b[1;32m    416\u001b[0m     \u001b[0mopened_new_file\u001b[0m \u001b[0;34m=\u001b[0m \u001b[0;32mnot\u001b[0m \u001b[0misinstance\u001b[0m\u001b[0;34m(\u001b[0m\u001b[0mfilepath\u001b[0m\u001b[0;34m,\u001b[0m \u001b[0mh5py\u001b[0m\u001b[0;34m.\u001b[0m\u001b[0mGroup\u001b[0m\u001b[0;34m)\u001b[0m\u001b[0;34m\u001b[0m\u001b[0;34m\u001b[0m\u001b[0m\n\u001b[0;32m--> 417\u001b[0;31m     \u001b[0mf\u001b[0m \u001b[0;34m=\u001b[0m \u001b[0mh5dict\u001b[0m\u001b[0;34m(\u001b[0m\u001b[0mfilepath\u001b[0m\u001b[0;34m,\u001b[0m \u001b[0;34m'r'\u001b[0m\u001b[0;34m)\u001b[0m\u001b[0;34m\u001b[0m\u001b[0;34m\u001b[0m\u001b[0m\n\u001b[0m\u001b[1;32m    418\u001b[0m     \u001b[0;32mtry\u001b[0m\u001b[0;34m:\u001b[0m\u001b[0;34m\u001b[0m\u001b[0;34m\u001b[0m\u001b[0m\n\u001b[1;32m    419\u001b[0m         \u001b[0mmodel\u001b[0m \u001b[0;34m=\u001b[0m \u001b[0m_deserialize_model\u001b[0m\u001b[0;34m(\u001b[0m\u001b[0mf\u001b[0m\u001b[0;34m,\u001b[0m \u001b[0mcustom_objects\u001b[0m\u001b[0;34m,\u001b[0m \u001b[0mcompile\u001b[0m\u001b[0;34m)\u001b[0m\u001b[0;34m\u001b[0m\u001b[0;34m\u001b[0m\u001b[0m\n",
      "\u001b[0;32m/anaconda3/lib/python3.7/site-packages/keras/utils/io_utils.py\u001b[0m in \u001b[0;36m__init__\u001b[0;34m(self, path, mode)\u001b[0m\n\u001b[1;32m    184\u001b[0m             \u001b[0mself\u001b[0m\u001b[0;34m.\u001b[0m\u001b[0m_is_file\u001b[0m \u001b[0;34m=\u001b[0m \u001b[0;32mFalse\u001b[0m\u001b[0;34m\u001b[0m\u001b[0;34m\u001b[0m\u001b[0m\n\u001b[1;32m    185\u001b[0m         \u001b[0;32melif\u001b[0m \u001b[0misinstance\u001b[0m\u001b[0;34m(\u001b[0m\u001b[0mpath\u001b[0m\u001b[0;34m,\u001b[0m \u001b[0mstr\u001b[0m\u001b[0;34m)\u001b[0m\u001b[0;34m:\u001b[0m\u001b[0;34m\u001b[0m\u001b[0;34m\u001b[0m\u001b[0m\n\u001b[0;32m--> 186\u001b[0;31m             \u001b[0mself\u001b[0m\u001b[0;34m.\u001b[0m\u001b[0mdata\u001b[0m \u001b[0;34m=\u001b[0m \u001b[0mh5py\u001b[0m\u001b[0;34m.\u001b[0m\u001b[0mFile\u001b[0m\u001b[0;34m(\u001b[0m\u001b[0mpath\u001b[0m\u001b[0;34m,\u001b[0m \u001b[0mmode\u001b[0m\u001b[0;34m=\u001b[0m\u001b[0mmode\u001b[0m\u001b[0;34m)\u001b[0m\u001b[0;34m\u001b[0m\u001b[0;34m\u001b[0m\u001b[0m\n\u001b[0m\u001b[1;32m    187\u001b[0m             \u001b[0mself\u001b[0m\u001b[0;34m.\u001b[0m\u001b[0m_is_file\u001b[0m \u001b[0;34m=\u001b[0m \u001b[0;32mTrue\u001b[0m\u001b[0;34m\u001b[0m\u001b[0;34m\u001b[0m\u001b[0m\n\u001b[1;32m    188\u001b[0m         \u001b[0;32melif\u001b[0m \u001b[0misinstance\u001b[0m\u001b[0;34m(\u001b[0m\u001b[0mpath\u001b[0m\u001b[0;34m,\u001b[0m \u001b[0mdict\u001b[0m\u001b[0;34m)\u001b[0m\u001b[0;34m:\u001b[0m\u001b[0;34m\u001b[0m\u001b[0;34m\u001b[0m\u001b[0m\n",
      "\u001b[0;32m/anaconda3/lib/python3.7/site-packages/h5py/_hl/files.py\u001b[0m in \u001b[0;36m__init__\u001b[0;34m(self, name, mode, driver, libver, userblock_size, swmr, rdcc_nslots, rdcc_nbytes, rdcc_w0, track_order, **kwds)\u001b[0m\n\u001b[1;32m    392\u001b[0m                 fid = make_fid(name, mode, userblock_size,\n\u001b[1;32m    393\u001b[0m                                \u001b[0mfapl\u001b[0m\u001b[0;34m,\u001b[0m \u001b[0mfcpl\u001b[0m\u001b[0;34m=\u001b[0m\u001b[0mmake_fcpl\u001b[0m\u001b[0;34m(\u001b[0m\u001b[0mtrack_order\u001b[0m\u001b[0;34m=\u001b[0m\u001b[0mtrack_order\u001b[0m\u001b[0;34m)\u001b[0m\u001b[0;34m,\u001b[0m\u001b[0;34m\u001b[0m\u001b[0;34m\u001b[0m\u001b[0m\n\u001b[0;32m--> 394\u001b[0;31m                                swmr=swmr)\n\u001b[0m\u001b[1;32m    395\u001b[0m \u001b[0;34m\u001b[0m\u001b[0m\n\u001b[1;32m    396\u001b[0m             \u001b[0;32mif\u001b[0m \u001b[0mswmr_support\u001b[0m\u001b[0;34m:\u001b[0m\u001b[0;34m\u001b[0m\u001b[0;34m\u001b[0m\u001b[0m\n",
      "\u001b[0;32m/anaconda3/lib/python3.7/site-packages/h5py/_hl/files.py\u001b[0m in \u001b[0;36mmake_fid\u001b[0;34m(name, mode, userblock_size, fapl, fcpl, swmr)\u001b[0m\n\u001b[1;32m    168\u001b[0m         \u001b[0;32mif\u001b[0m \u001b[0mswmr\u001b[0m \u001b[0;32mand\u001b[0m \u001b[0mswmr_support\u001b[0m\u001b[0;34m:\u001b[0m\u001b[0;34m\u001b[0m\u001b[0;34m\u001b[0m\u001b[0m\n\u001b[1;32m    169\u001b[0m             \u001b[0mflags\u001b[0m \u001b[0;34m|=\u001b[0m \u001b[0mh5f\u001b[0m\u001b[0;34m.\u001b[0m\u001b[0mACC_SWMR_READ\u001b[0m\u001b[0;34m\u001b[0m\u001b[0;34m\u001b[0m\u001b[0m\n\u001b[0;32m--> 170\u001b[0;31m         \u001b[0mfid\u001b[0m \u001b[0;34m=\u001b[0m \u001b[0mh5f\u001b[0m\u001b[0;34m.\u001b[0m\u001b[0mopen\u001b[0m\u001b[0;34m(\u001b[0m\u001b[0mname\u001b[0m\u001b[0;34m,\u001b[0m \u001b[0mflags\u001b[0m\u001b[0;34m,\u001b[0m \u001b[0mfapl\u001b[0m\u001b[0;34m=\u001b[0m\u001b[0mfapl\u001b[0m\u001b[0;34m)\u001b[0m\u001b[0;34m\u001b[0m\u001b[0;34m\u001b[0m\u001b[0m\n\u001b[0m\u001b[1;32m    171\u001b[0m     \u001b[0;32melif\u001b[0m \u001b[0mmode\u001b[0m \u001b[0;34m==\u001b[0m \u001b[0;34m'r+'\u001b[0m\u001b[0;34m:\u001b[0m\u001b[0;34m\u001b[0m\u001b[0;34m\u001b[0m\u001b[0m\n\u001b[1;32m    172\u001b[0m         \u001b[0mfid\u001b[0m \u001b[0;34m=\u001b[0m \u001b[0mh5f\u001b[0m\u001b[0;34m.\u001b[0m\u001b[0mopen\u001b[0m\u001b[0;34m(\u001b[0m\u001b[0mname\u001b[0m\u001b[0;34m,\u001b[0m \u001b[0mh5f\u001b[0m\u001b[0;34m.\u001b[0m\u001b[0mACC_RDWR\u001b[0m\u001b[0;34m,\u001b[0m \u001b[0mfapl\u001b[0m\u001b[0;34m=\u001b[0m\u001b[0mfapl\u001b[0m\u001b[0;34m)\u001b[0m\u001b[0;34m\u001b[0m\u001b[0;34m\u001b[0m\u001b[0m\n",
      "\u001b[0;32mh5py/_objects.pyx\u001b[0m in \u001b[0;36mh5py._objects.with_phil.wrapper\u001b[0;34m()\u001b[0m\n",
      "\u001b[0;32mh5py/_objects.pyx\u001b[0m in \u001b[0;36mh5py._objects.with_phil.wrapper\u001b[0;34m()\u001b[0m\n",
      "\u001b[0;32mh5py/h5f.pyx\u001b[0m in \u001b[0;36mh5py.h5f.open\u001b[0;34m()\u001b[0m\n",
      "\u001b[0;31mOSError\u001b[0m: Unable to open file (unable to open file: name = 'checkpoint-0.91.h5', errno = 2, error message = 'No such file or directory', flags = 0, o_flags = 0)"
     ]
    }
   ],
   "source": [
    "model = keras.models.load_model(\"checkpoint-0.91.h5\")"
   ]
  },
  {
   "cell_type": "markdown",
   "metadata": {},
   "source": [
    "Time to train!!"
   ]
  },
  {
   "cell_type": "code",
   "execution_count": 17,
   "metadata": {
    "scrolled": true
   },
   "outputs": [
    {
     "name": "stdout",
     "output_type": "stream",
     "text": [
      "Training Progress:\n",
      "Train on 37831 samples, validate on 9457 samples\n",
      "Epoch 1/200\n",
      "37831/37831 [==============================] - 123s 3ms/step - loss: 1.2557 - acc: 0.4250 - val_loss: 1.1330 - val_acc: 0.5125\n",
      "Epoch 2/200\n",
      "37831/37831 [==============================] - 124s 3ms/step - loss: 1.1117 - acc: 0.5269 - val_loss: 1.0660 - val_acc: 0.5642\n",
      "Epoch 3/200\n",
      "37831/37831 [==============================] - 126s 3ms/step - loss: 1.0457 - acc: 0.5619 - val_loss: 1.0096 - val_acc: 0.5833\n",
      "Epoch 4/200\n",
      "37831/37831 [==============================] - 120s 3ms/step - loss: 1.0126 - acc: 0.5787 - val_loss: 0.9850 - val_acc: 0.6021\n",
      "Epoch 5/200\n",
      "37831/37831 [==============================] - 108s 3ms/step - loss: 0.9885 - acc: 0.5909 - val_loss: 0.9683 - val_acc: 0.6140\n",
      "Epoch 6/200\n",
      "37831/37831 [==============================] - 111s 3ms/step - loss: 0.9718 - acc: 0.6013 - val_loss: 0.9519 - val_acc: 0.6183\n",
      "Epoch 7/200\n",
      "37831/37831 [==============================] - 117s 3ms/step - loss: 0.9582 - acc: 0.6055 - val_loss: 0.9482 - val_acc: 0.6173\n",
      "Epoch 8/200\n",
      "37831/37831 [==============================] - 119s 3ms/step - loss: 0.9468 - acc: 0.6133 - val_loss: 0.9411 - val_acc: 0.6209\n",
      "Epoch 9/200\n",
      "37831/37831 [==============================] - 118s 3ms/step - loss: 0.9407 - acc: 0.6151 - val_loss: 0.9328 - val_acc: 0.6230\n",
      "Epoch 10/200\n",
      "37831/37831 [==============================] - 117s 3ms/step - loss: 0.9345 - acc: 0.6186 - val_loss: 0.9347 - val_acc: 0.6211\n",
      "Epoch 11/200\n",
      "37831/37831 [==============================] - 118s 3ms/step - loss: 0.9297 - acc: 0.6209 - val_loss: 0.9296 - val_acc: 0.6247\n",
      "Epoch 12/200\n",
      "37831/37831 [==============================] - 117s 3ms/step - loss: 0.9218 - acc: 0.6201 - val_loss: 0.9272 - val_acc: 0.6259\n",
      "Epoch 13/200\n",
      "37831/37831 [==============================] - 124s 3ms/step - loss: 0.9178 - acc: 0.6238 - val_loss: 0.9252 - val_acc: 0.6254\n",
      "Epoch 14/200\n",
      "37831/37831 [==============================] - 117s 3ms/step - loss: 0.9154 - acc: 0.6258 - val_loss: 0.9234 - val_acc: 0.6261\n",
      "Epoch 15/200\n",
      "37831/37831 [==============================] - 121s 3ms/step - loss: 0.9121 - acc: 0.6274 - val_loss: 0.9216 - val_acc: 0.6270\n",
      "Epoch 16/200\n",
      "37831/37831 [==============================] - 130s 3ms/step - loss: 0.9090 - acc: 0.6296 - val_loss: 0.9180 - val_acc: 0.6290\n",
      "Epoch 17/200\n",
      "37831/37831 [==============================] - 137s 4ms/step - loss: 0.9066 - acc: 0.6304 - val_loss: 0.9192 - val_acc: 0.6261\n",
      "Epoch 18/200\n",
      "37831/37831 [==============================] - 132s 3ms/step - loss: 0.9020 - acc: 0.6314 - val_loss: 0.9181 - val_acc: 0.6281\n",
      "Epoch 19/200\n",
      "37831/37831 [==============================] - 130s 3ms/step - loss: 0.9018 - acc: 0.6319 - val_loss: 0.9193 - val_acc: 0.6262\n",
      "Epoch 20/200\n",
      "37831/37831 [==============================] - 129s 3ms/step - loss: 0.9008 - acc: 0.6322 - val_loss: 0.9166 - val_acc: 0.6272\n",
      "Epoch 21/200\n",
      "37831/37831 [==============================] - 132s 3ms/step - loss: 0.8957 - acc: 0.6335 - val_loss: 0.9193 - val_acc: 0.6264\n",
      "Epoch 22/200\n",
      "37831/37831 [==============================] - 133s 4ms/step - loss: 0.8944 - acc: 0.6368 - val_loss: 0.9175 - val_acc: 0.6307\n",
      "Epoch 23/200\n",
      "37831/37831 [==============================] - 128s 3ms/step - loss: 0.8916 - acc: 0.6353 - val_loss: 0.9137 - val_acc: 0.6304\n",
      "Epoch 24/200\n",
      "37831/37831 [==============================] - 131s 3ms/step - loss: 0.8888 - acc: 0.6371 - val_loss: 0.9143 - val_acc: 0.6302\n",
      "Epoch 25/200\n",
      "37831/37831 [==============================] - 135s 4ms/step - loss: 0.8903 - acc: 0.6353 - val_loss: 0.9143 - val_acc: 0.6296\n",
      "Epoch 26/200\n",
      "37831/37831 [==============================] - 129s 3ms/step - loss: 0.8879 - acc: 0.6376 - val_loss: 0.9154 - val_acc: 0.6274\n",
      "Epoch 27/200\n",
      "37831/37831 [==============================] - 135s 4ms/step - loss: 0.8850 - acc: 0.6396 - val_loss: 0.9110 - val_acc: 0.6315\n",
      "Epoch 28/200\n",
      "37831/37831 [==============================] - 135s 4ms/step - loss: 0.8845 - acc: 0.6384 - val_loss: 0.9126 - val_acc: 0.6306\n",
      "Epoch 29/200\n",
      "37831/37831 [==============================] - 131s 3ms/step - loss: 0.8831 - acc: 0.6413 - val_loss: 0.9133 - val_acc: 0.6278\n",
      "Epoch 30/200\n",
      "37831/37831 [==============================] - 131s 3ms/step - loss: 0.8831 - acc: 0.6392 - val_loss: 0.9139 - val_acc: 0.6281\n",
      "Epoch 31/200\n",
      "37831/37831 [==============================] - 131s 3ms/step - loss: 0.8819 - acc: 0.6401 - val_loss: 0.9132 - val_acc: 0.6277\n",
      "Epoch 32/200\n",
      "37831/37831 [==============================] - 134s 4ms/step - loss: 0.8791 - acc: 0.6431 - val_loss: 0.9120 - val_acc: 0.6282\n",
      "Epoch 33/200\n",
      "37831/37831 [==============================] - 139s 4ms/step - loss: 0.8776 - acc: 0.6443 - val_loss: 0.9121 - val_acc: 0.6298\n",
      "Epoch 34/200\n",
      "37831/37831 [==============================] - 138s 4ms/step - loss: 0.8770 - acc: 0.6425 - val_loss: 0.9135 - val_acc: 0.6278\n",
      "Epoch 35/200\n",
      "37831/37831 [==============================] - 120s 3ms/step - loss: 0.8756 - acc: 0.6428 - val_loss: 0.9119 - val_acc: 0.6319\n",
      "Epoch 36/200\n",
      "37831/37831 [==============================] - 118s 3ms/step - loss: 0.8739 - acc: 0.6436 - val_loss: 0.9109 - val_acc: 0.6321\n",
      "Epoch 37/200\n",
      "37831/37831 [==============================] - 119s 3ms/step - loss: 0.8727 - acc: 0.6446 - val_loss: 0.9104 - val_acc: 0.6316\n",
      "Epoch 38/200\n",
      "37831/37831 [==============================] - 119s 3ms/step - loss: 0.8715 - acc: 0.6457 - val_loss: 0.9136 - val_acc: 0.6295\n",
      "Epoch 39/200\n",
      "37831/37831 [==============================] - 126s 3ms/step - loss: 0.8710 - acc: 0.6460 - val_loss: 0.9109 - val_acc: 0.6300\n",
      "Epoch 40/200\n",
      "37831/37831 [==============================] - 126s 3ms/step - loss: 0.8710 - acc: 0.6455 - val_loss: 0.9105 - val_acc: 0.6305\n",
      "Epoch 41/200\n",
      "37831/37831 [==============================] - 125s 3ms/step - loss: 0.8673 - acc: 0.6484 - val_loss: 0.9109 - val_acc: 0.6310\n",
      "Epoch 42/200\n",
      "37831/37831 [==============================] - 126s 3ms/step - loss: 0.8659 - acc: 0.6480 - val_loss: 0.9107 - val_acc: 0.6318\n",
      "Epoch 43/200\n",
      "37831/37831 [==============================] - 125s 3ms/step - loss: 0.8655 - acc: 0.6466 - val_loss: 0.9101 - val_acc: 0.6331\n",
      "Epoch 44/200\n",
      "37831/37831 [==============================] - 125s 3ms/step - loss: 0.8629 - acc: 0.6511 - val_loss: 0.9094 - val_acc: 0.6316\n",
      "Epoch 45/200\n",
      "37831/37831 [==============================] - 124s 3ms/step - loss: 0.8629 - acc: 0.6474 - val_loss: 0.9083 - val_acc: 0.6311\n",
      "Epoch 46/200\n",
      "37831/37831 [==============================] - 125s 3ms/step - loss: 0.8622 - acc: 0.6502 - val_loss: 0.9109 - val_acc: 0.6304\n",
      "Epoch 47/200\n",
      "37831/37831 [==============================] - 125s 3ms/step - loss: 0.8643 - acc: 0.6495 - val_loss: 0.9119 - val_acc: 0.6302\n",
      "Epoch 48/200\n",
      "37831/37831 [==============================] - 124s 3ms/step - loss: 0.8576 - acc: 0.6513 - val_loss: 0.9090 - val_acc: 0.6331\n",
      "Epoch 49/200\n",
      "37831/37831 [==============================] - 125s 3ms/step - loss: 0.8589 - acc: 0.6510 - val_loss: 0.9112 - val_acc: 0.6320\n",
      "Epoch 50/200\n",
      "37831/37831 [==============================] - 125s 3ms/step - loss: 0.8586 - acc: 0.6506 - val_loss: 0.9097 - val_acc: 0.6317\n",
      "Epoch 51/200\n",
      "37831/37831 [==============================] - 125s 3ms/step - loss: 0.8577 - acc: 0.6527 - val_loss: 0.9110 - val_acc: 0.6298\n",
      "Epoch 52/200\n",
      "37831/37831 [==============================] - 125s 3ms/step - loss: 0.8592 - acc: 0.6520 - val_loss: 0.9103 - val_acc: 0.6301\n",
      "Epoch 53/200\n",
      "37831/37831 [==============================] - 125s 3ms/step - loss: 0.8563 - acc: 0.6516 - val_loss: 0.9120 - val_acc: 0.6300\n",
      "Epoch 54/200\n",
      "37831/37831 [==============================] - 125s 3ms/step - loss: 0.8566 - acc: 0.6523 - val_loss: 0.9093 - val_acc: 0.6319\n",
      "Epoch 55/200\n",
      "37831/37831 [==============================] - 123s 3ms/step - loss: 0.8556 - acc: 0.6518 - val_loss: 0.9119 - val_acc: 0.6302\n",
      "Epoch 56/200\n",
      "37831/37831 [==============================] - 124s 3ms/step - loss: 0.8546 - acc: 0.6515 - val_loss: 0.9120 - val_acc: 0.6296\n",
      "Epoch 57/200\n",
      "37831/37831 [==============================] - 126s 3ms/step - loss: 0.8540 - acc: 0.6521 - val_loss: 0.9107 - val_acc: 0.6305\n",
      "Epoch 58/200\n",
      "37831/37831 [==============================] - 126s 3ms/step - loss: 0.8535 - acc: 0.6558 - val_loss: 0.9107 - val_acc: 0.6310\n",
      "Epoch 59/200\n"
     ]
    },
    {
     "name": "stdout",
     "output_type": "stream",
     "text": [
      "37831/37831 [==============================] - 125s 3ms/step - loss: 0.8530 - acc: 0.6541 - val_loss: 0.9081 - val_acc: 0.6328\n",
      "Epoch 60/200\n",
      "37831/37831 [==============================] - 123s 3ms/step - loss: 0.8508 - acc: 0.6558 - val_loss: 0.9111 - val_acc: 0.6302\n",
      "Epoch 61/200\n",
      "37831/37831 [==============================] - 125s 3ms/step - loss: 0.8539 - acc: 0.6541 - val_loss: 0.9103 - val_acc: 0.6301\n",
      "Epoch 62/200\n",
      "37831/37831 [==============================] - 125s 3ms/step - loss: 0.8494 - acc: 0.6563 - val_loss: 0.9110 - val_acc: 0.6297\n",
      "Epoch 63/200\n",
      "37831/37831 [==============================] - 125s 3ms/step - loss: 0.8498 - acc: 0.6521 - val_loss: 0.9106 - val_acc: 0.6305\n",
      "Epoch 64/200\n",
      "37831/37831 [==============================] - 125s 3ms/step - loss: 0.8493 - acc: 0.6563 - val_loss: 0.9087 - val_acc: 0.6298\n",
      "Epoch 65/200\n",
      "37831/37831 [==============================] - 125s 3ms/step - loss: 0.8475 - acc: 0.6562 - val_loss: 0.9097 - val_acc: 0.6282\n",
      "Epoch 66/200\n",
      "37831/37831 [==============================] - 126s 3ms/step - loss: 0.8500 - acc: 0.6565 - val_loss: 0.9092 - val_acc: 0.6293\n",
      "Epoch 67/200\n",
      "37831/37831 [==============================] - 123s 3ms/step - loss: 0.8464 - acc: 0.6561 - val_loss: 0.9092 - val_acc: 0.6321\n",
      "Epoch 68/200\n",
      "37831/37831 [==============================] - 125s 3ms/step - loss: 0.8436 - acc: 0.6582 - val_loss: 0.9108 - val_acc: 0.6296\n",
      "Epoch 69/200\n",
      "37831/37831 [==============================] - 126s 3ms/step - loss: 0.8450 - acc: 0.6579 - val_loss: 0.9113 - val_acc: 0.6302\n",
      "Epoch 70/200\n",
      "37831/37831 [==============================] - 126s 3ms/step - loss: 0.8437 - acc: 0.6592 - val_loss: 0.9110 - val_acc: 0.6296\n",
      "Epoch 71/200\n",
      "37831/37831 [==============================] - 126s 3ms/step - loss: 0.8463 - acc: 0.6571 - val_loss: 0.9085 - val_acc: 0.6291\n",
      "Epoch 72/200\n",
      "37831/37831 [==============================] - 126s 3ms/step - loss: 0.8438 - acc: 0.6598 - val_loss: 0.9103 - val_acc: 0.6288\n",
      "Epoch 73/200\n",
      "37831/37831 [==============================] - 125s 3ms/step - loss: 0.8447 - acc: 0.6558 - val_loss: 0.9119 - val_acc: 0.6276\n",
      "Epoch 74/200\n",
      "37831/37831 [==============================] - 124s 3ms/step - loss: 0.8436 - acc: 0.6589 - val_loss: 0.9116 - val_acc: 0.6304\n",
      "Epoch 75/200\n",
      "37831/37831 [==============================] - 126s 3ms/step - loss: 0.8412 - acc: 0.6619 - val_loss: 0.9117 - val_acc: 0.6310\n",
      "Epoch 76/200\n",
      "37831/37831 [==============================] - 125s 3ms/step - loss: 0.8401 - acc: 0.6604 - val_loss: 0.9104 - val_acc: 0.6290\n",
      "Epoch 77/200\n",
      "37831/37831 [==============================] - 126s 3ms/step - loss: 0.8407 - acc: 0.6610 - val_loss: 0.9096 - val_acc: 0.6287\n",
      "Epoch 78/200\n",
      "37831/37831 [==============================] - 125s 3ms/step - loss: 0.8390 - acc: 0.6597 - val_loss: 0.9114 - val_acc: 0.6301\n",
      "Epoch 79/200\n",
      "37831/37831 [==============================] - 126s 3ms/step - loss: 0.8386 - acc: 0.6614 - val_loss: 0.9123 - val_acc: 0.6291\n",
      "Epoch 80/200\n",
      "37831/37831 [==============================] - 125s 3ms/step - loss: 0.8387 - acc: 0.6588 - val_loss: 0.9126 - val_acc: 0.6290\n",
      "Epoch 81/200\n",
      "37831/37831 [==============================] - 126s 3ms/step - loss: 0.8377 - acc: 0.6622 - val_loss: 0.9108 - val_acc: 0.6300\n",
      "Epoch 82/200\n",
      "37831/37831 [==============================] - 126s 3ms/step - loss: 0.8385 - acc: 0.6629 - val_loss: 0.9114 - val_acc: 0.6302\n",
      "Epoch 83/200\n",
      "37831/37831 [==============================] - 125s 3ms/step - loss: 0.8394 - acc: 0.6605 - val_loss: 0.9111 - val_acc: 0.6284\n",
      "Epoch 84/200\n",
      "37831/37831 [==============================] - 125s 3ms/step - loss: 0.8356 - acc: 0.6620 - val_loss: 0.9113 - val_acc: 0.6287\n",
      "Epoch 85/200\n",
      "37831/37831 [==============================] - 125s 3ms/step - loss: 0.8340 - acc: 0.6617 - val_loss: 0.9112 - val_acc: 0.6296\n",
      "Epoch 86/200\n",
      "37831/37831 [==============================] - 126s 3ms/step - loss: 0.8344 - acc: 0.6613 - val_loss: 0.9114 - val_acc: 0.6301\n",
      "Epoch 87/200\n",
      "37831/37831 [==============================] - 126s 3ms/step - loss: 0.8346 - acc: 0.6628 - val_loss: 0.9114 - val_acc: 0.6300\n",
      "Epoch 88/200\n",
      "37831/37831 [==============================] - 126s 3ms/step - loss: 0.8356 - acc: 0.6622 - val_loss: 0.9113 - val_acc: 0.6283\n",
      "Epoch 89/200\n",
      "37831/37831 [==============================] - 126s 3ms/step - loss: 0.8338 - acc: 0.6626 - val_loss: 0.9116 - val_acc: 0.6288\n",
      "Epoch 90/200\n",
      "37831/37831 [==============================] - 126s 3ms/step - loss: 0.8347 - acc: 0.6617 - val_loss: 0.9113 - val_acc: 0.6295\n",
      "Epoch 91/200\n",
      "37831/37831 [==============================] - 126s 3ms/step - loss: 0.8371 - acc: 0.6626 - val_loss: 0.9105 - val_acc: 0.6288\n",
      "Epoch 92/200\n",
      "37831/37831 [==============================] - 126s 3ms/step - loss: 0.8350 - acc: 0.6605 - val_loss: 0.9112 - val_acc: 0.6285\n",
      "Epoch 93/200\n",
      "37831/37831 [==============================] - 126s 3ms/step - loss: 0.8323 - acc: 0.6636 - val_loss: 0.9115 - val_acc: 0.6296\n",
      "Epoch 94/200\n",
      "37831/37831 [==============================] - 126s 3ms/step - loss: 0.8347 - acc: 0.6633 - val_loss: 0.9113 - val_acc: 0.6292\n",
      "Epoch 95/200\n",
      "37831/37831 [==============================] - 126s 3ms/step - loss: 0.8325 - acc: 0.6627 - val_loss: 0.9122 - val_acc: 0.6294\n",
      "Epoch 96/200\n",
      "37831/37831 [==============================] - 124s 3ms/step - loss: 0.8308 - acc: 0.6625 - val_loss: 0.9117 - val_acc: 0.6302\n",
      "Epoch 97/200\n",
      "37831/37831 [==============================] - 125s 3ms/step - loss: 0.8313 - acc: 0.6635 - val_loss: 0.9117 - val_acc: 0.6298\n",
      "Epoch 98/200\n",
      "37831/37831 [==============================] - 125s 3ms/step - loss: 0.8309 - acc: 0.6657 - val_loss: 0.9124 - val_acc: 0.6297\n",
      "Epoch 99/200\n",
      "37831/37831 [==============================] - 126s 3ms/step - loss: 0.8324 - acc: 0.6655 - val_loss: 0.9119 - val_acc: 0.6293\n",
      "Epoch 100/200\n",
      "37831/37831 [==============================] - 126s 3ms/step - loss: 0.8283 - acc: 0.6656 - val_loss: 0.9134 - val_acc: 0.6282\n",
      "Epoch 101/200\n",
      "37831/37831 [==============================] - 126s 3ms/step - loss: 0.8292 - acc: 0.6651 - val_loss: 0.9138 - val_acc: 0.6292\n",
      "Epoch 102/200\n",
      "37831/37831 [==============================] - 126s 3ms/step - loss: 0.8294 - acc: 0.6648 - val_loss: 0.9129 - val_acc: 0.6293\n",
      "Epoch 103/200\n",
      "37831/37831 [==============================] - 125s 3ms/step - loss: 0.8250 - acc: 0.6665 - val_loss: 0.9133 - val_acc: 0.6304\n",
      "Epoch 104/200\n",
      "37831/37831 [==============================] - 125s 3ms/step - loss: 0.8286 - acc: 0.6651 - val_loss: 0.9124 - val_acc: 0.6283\n",
      "Epoch 105/200\n",
      "37831/37831 [==============================] - 125s 3ms/step - loss: 0.8248 - acc: 0.6669 - val_loss: 0.9124 - val_acc: 0.6292\n",
      "Epoch 106/200\n",
      "37831/37831 [==============================] - 126s 3ms/step - loss: 0.8253 - acc: 0.6675 - val_loss: 0.9133 - val_acc: 0.6303\n",
      "Epoch 107/200\n",
      "37831/37831 [==============================] - 124s 3ms/step - loss: 0.8278 - acc: 0.6644 - val_loss: 0.9138 - val_acc: 0.6285\n",
      "Epoch 108/200\n",
      "37831/37831 [==============================] - 126s 3ms/step - loss: 0.8286 - acc: 0.6662 - val_loss: 0.9138 - val_acc: 0.6292\n",
      "Epoch 109/200\n",
      "37831/37831 [==============================] - 126s 3ms/step - loss: 0.8247 - acc: 0.6673 - val_loss: 0.9133 - val_acc: 0.6288\n",
      "Epoch 110/200\n",
      "37831/37831 [==============================] - 126s 3ms/step - loss: 0.8245 - acc: 0.6672 - val_loss: 0.9135 - val_acc: 0.6295\n",
      "Epoch 111/200\n",
      "37831/37831 [==============================] - 126s 3ms/step - loss: 0.8258 - acc: 0.6669 - val_loss: 0.9145 - val_acc: 0.6295\n",
      "Epoch 112/200\n",
      "37831/37831 [==============================] - 126s 3ms/step - loss: 0.8247 - acc: 0.6665 - val_loss: 0.9128 - val_acc: 0.6302\n",
      "Epoch 113/200\n",
      "37831/37831 [==============================] - 126s 3ms/step - loss: 0.8222 - acc: 0.6701 - val_loss: 0.9141 - val_acc: 0.6287\n",
      "Epoch 114/200\n",
      "37831/37831 [==============================] - 126s 3ms/step - loss: 0.8253 - acc: 0.6677 - val_loss: 0.9134 - val_acc: 0.6297\n",
      "Epoch 115/200\n",
      "37831/37831 [==============================] - 126s 3ms/step - loss: 0.8245 - acc: 0.6681 - val_loss: 0.9132 - val_acc: 0.6294\n",
      "Epoch 116/200\n",
      "37831/37831 [==============================] - 126s 3ms/step - loss: 0.8225 - acc: 0.6680 - val_loss: 0.9130 - val_acc: 0.6301\n",
      "Epoch 117/200\n"
     ]
    },
    {
     "name": "stdout",
     "output_type": "stream",
     "text": [
      "37831/37831 [==============================] - 126s 3ms/step - loss: 0.8222 - acc: 0.6685 - val_loss: 0.9139 - val_acc: 0.6274\n",
      "Epoch 118/200\n",
      "37831/37831 [==============================] - 125s 3ms/step - loss: 0.8244 - acc: 0.6675 - val_loss: 0.9140 - val_acc: 0.6277\n",
      "Epoch 119/200\n",
      "37831/37831 [==============================] - 126s 3ms/step - loss: 0.8219 - acc: 0.6685 - val_loss: 0.9135 - val_acc: 0.6303\n",
      "Epoch 120/200\n",
      "37831/37831 [==============================] - 125s 3ms/step - loss: 0.8228 - acc: 0.6686 - val_loss: 0.9136 - val_acc: 0.6290\n",
      "Epoch 121/200\n",
      "37831/37831 [==============================] - 126s 3ms/step - loss: 0.8218 - acc: 0.6701 - val_loss: 0.9137 - val_acc: 0.6282\n",
      "Epoch 122/200\n",
      "37831/37831 [==============================] - 126s 3ms/step - loss: 0.8172 - acc: 0.6694 - val_loss: 0.9147 - val_acc: 0.6286\n",
      "Epoch 123/200\n",
      "37831/37831 [==============================] - 126s 3ms/step - loss: 0.8196 - acc: 0.6692 - val_loss: 0.9145 - val_acc: 0.6285\n",
      "Epoch 124/200\n",
      "37831/37831 [==============================] - 126s 3ms/step - loss: 0.8220 - acc: 0.6692 - val_loss: 0.9152 - val_acc: 0.6285\n",
      "Epoch 125/200\n",
      "37831/37831 [==============================] - 126s 3ms/step - loss: 0.8185 - acc: 0.6712 - val_loss: 0.9154 - val_acc: 0.6284\n",
      "Epoch 126/200\n",
      "37831/37831 [==============================] - 127s 3ms/step - loss: 0.8192 - acc: 0.6711 - val_loss: 0.9143 - val_acc: 0.6279\n",
      "Epoch 127/200\n",
      "37831/37831 [==============================] - 126s 3ms/step - loss: 0.8189 - acc: 0.6675 - val_loss: 0.9146 - val_acc: 0.6287\n",
      "Epoch 128/200\n",
      "37831/37831 [==============================] - 126s 3ms/step - loss: 0.8154 - acc: 0.6692 - val_loss: 0.9156 - val_acc: 0.6281\n",
      "Epoch 129/200\n",
      "37831/37831 [==============================] - 126s 3ms/step - loss: 0.8187 - acc: 0.6706 - val_loss: 0.9160 - val_acc: 0.6275\n",
      "Epoch 130/200\n",
      "37831/37831 [==============================] - 126s 3ms/step - loss: 0.8173 - acc: 0.6693 - val_loss: 0.9149 - val_acc: 0.6283\n",
      "Epoch 131/200\n",
      "37831/37831 [==============================] - 126s 3ms/step - loss: 0.8178 - acc: 0.6713 - val_loss: 0.9145 - val_acc: 0.6287\n",
      "Epoch 132/200\n",
      "37831/37831 [==============================] - 125s 3ms/step - loss: 0.8187 - acc: 0.6686 - val_loss: 0.9143 - val_acc: 0.6293\n",
      "Epoch 133/200\n",
      "37831/37831 [==============================] - 125s 3ms/step - loss: 0.8175 - acc: 0.6716 - val_loss: 0.9147 - val_acc: 0.6282\n",
      "Epoch 134/200\n",
      "37831/37831 [==============================] - 122s 3ms/step - loss: 0.8159 - acc: 0.6718 - val_loss: 0.9156 - val_acc: 0.6288\n",
      "Epoch 135/200\n",
      "37831/37831 [==============================] - 126s 3ms/step - loss: 0.8167 - acc: 0.6683 - val_loss: 0.9156 - val_acc: 0.6278\n",
      "Epoch 136/200\n",
      "37831/37831 [==============================] - 125s 3ms/step - loss: 0.8167 - acc: 0.6708 - val_loss: 0.9160 - val_acc: 0.6269\n",
      "Epoch 137/200\n",
      "37831/37831 [==============================] - 125s 3ms/step - loss: 0.8180 - acc: 0.6685 - val_loss: 0.9156 - val_acc: 0.6274\n",
      "Epoch 138/200\n",
      "37831/37831 [==============================] - 126s 3ms/step - loss: 0.8181 - acc: 0.6698 - val_loss: 0.9160 - val_acc: 0.6276\n",
      "Epoch 139/200\n",
      "37831/37831 [==============================] - 126s 3ms/step - loss: 0.8178 - acc: 0.6708 - val_loss: 0.9156 - val_acc: 0.6294\n",
      "Epoch 140/200\n",
      "37831/37831 [==============================] - 126s 3ms/step - loss: 0.8128 - acc: 0.6710 - val_loss: 0.9162 - val_acc: 0.6272\n",
      "Epoch 141/200\n",
      "37831/37831 [==============================] - 126s 3ms/step - loss: 0.8153 - acc: 0.6723 - val_loss: 0.9147 - val_acc: 0.6294\n",
      "Epoch 142/200\n",
      "37831/37831 [==============================] - 126s 3ms/step - loss: 0.8156 - acc: 0.6710 - val_loss: 0.9156 - val_acc: 0.6279\n",
      "Epoch 143/200\n",
      "37831/37831 [==============================] - 126s 3ms/step - loss: 0.8143 - acc: 0.6714 - val_loss: 0.9166 - val_acc: 0.6274\n",
      "Epoch 144/200\n",
      "37831/37831 [==============================] - 126s 3ms/step - loss: 0.8136 - acc: 0.6715 - val_loss: 0.9163 - val_acc: 0.6280\n",
      "Epoch 145/200\n",
      "37831/37831 [==============================] - 125s 3ms/step - loss: 0.8133 - acc: 0.6722 - val_loss: 0.9162 - val_acc: 0.6280\n",
      "Epoch 146/200\n",
      "37831/37831 [==============================] - 126s 3ms/step - loss: 0.8104 - acc: 0.6722 - val_loss: 0.9170 - val_acc: 0.6272\n",
      "Epoch 147/200\n",
      "37831/37831 [==============================] - 125s 3ms/step - loss: 0.8098 - acc: 0.6743 - val_loss: 0.9174 - val_acc: 0.6280\n",
      "Epoch 148/200\n",
      "37831/37831 [==============================] - 125s 3ms/step - loss: 0.8119 - acc: 0.6750 - val_loss: 0.9165 - val_acc: 0.6275\n",
      "Epoch 149/200\n",
      "37831/37831 [==============================] - 126s 3ms/step - loss: 0.8102 - acc: 0.6736 - val_loss: 0.9167 - val_acc: 0.6270\n",
      "Epoch 150/200\n",
      "37831/37831 [==============================] - 126s 3ms/step - loss: 0.8129 - acc: 0.6727 - val_loss: 0.9159 - val_acc: 0.6285\n",
      "Epoch 151/200\n",
      "37831/37831 [==============================] - 126s 3ms/step - loss: 0.8120 - acc: 0.6738 - val_loss: 0.9169 - val_acc: 0.6282\n",
      "Epoch 152/200\n",
      "37831/37831 [==============================] - 124s 3ms/step - loss: 0.8126 - acc: 0.6735 - val_loss: 0.9151 - val_acc: 0.6291\n",
      "Epoch 153/200\n",
      "37831/37831 [==============================] - 117s 3ms/step - loss: 0.8120 - acc: 0.6727 - val_loss: 0.9160 - val_acc: 0.6286\n",
      "Epoch 154/200\n",
      "37831/37831 [==============================] - 121s 3ms/step - loss: 0.8108 - acc: 0.6752 - val_loss: 0.9170 - val_acc: 0.6281\n",
      "Epoch 155/200\n",
      "37831/37831 [==============================] - 126s 3ms/step - loss: 0.8094 - acc: 0.6752 - val_loss: 0.9159 - val_acc: 0.6288\n",
      "Epoch 156/200\n",
      "37831/37831 [==============================] - 125s 3ms/step - loss: 0.8118 - acc: 0.6735 - val_loss: 0.9169 - val_acc: 0.6269\n",
      "Epoch 157/200\n",
      "37831/37831 [==============================] - 125s 3ms/step - loss: 0.8090 - acc: 0.6747 - val_loss: 0.9170 - val_acc: 0.6276\n",
      "Epoch 158/200\n",
      "37831/37831 [==============================] - 125s 3ms/step - loss: 0.8112 - acc: 0.6729 - val_loss: 0.9172 - val_acc: 0.6275\n",
      "Epoch 159/200\n",
      "37831/37831 [==============================] - 126s 3ms/step - loss: 0.8119 - acc: 0.6746 - val_loss: 0.9170 - val_acc: 0.6275\n",
      "Epoch 160/200\n",
      "37831/37831 [==============================] - 125s 3ms/step - loss: 0.8114 - acc: 0.6718 - val_loss: 0.9169 - val_acc: 0.6276\n",
      "Epoch 161/200\n",
      "37831/37831 [==============================] - 124s 3ms/step - loss: 0.8075 - acc: 0.6758 - val_loss: 0.9161 - val_acc: 0.6296\n",
      "Epoch 162/200\n",
      "37831/37831 [==============================] - 125s 3ms/step - loss: 0.8109 - acc: 0.6734 - val_loss: 0.9173 - val_acc: 0.6269\n",
      "Epoch 163/200\n",
      "37831/37831 [==============================] - 125s 3ms/step - loss: 0.8087 - acc: 0.6756 - val_loss: 0.9160 - val_acc: 0.6295\n",
      "Epoch 164/200\n",
      "37831/37831 [==============================] - 125s 3ms/step - loss: 0.8091 - acc: 0.6753 - val_loss: 0.9163 - val_acc: 0.6288\n",
      "Epoch 165/200\n",
      "37831/37831 [==============================] - 125s 3ms/step - loss: 0.8087 - acc: 0.6729 - val_loss: 0.9170 - val_acc: 0.6291\n",
      "Epoch 166/200\n",
      "37831/37831 [==============================] - 125s 3ms/step - loss: 0.8096 - acc: 0.6762 - val_loss: 0.9166 - val_acc: 0.6293\n",
      "Epoch 167/200\n",
      "37831/37831 [==============================] - 125s 3ms/step - loss: 0.8071 - acc: 0.6739 - val_loss: 0.9177 - val_acc: 0.6273\n",
      "Epoch 168/200\n",
      "37831/37831 [==============================] - 125s 3ms/step - loss: 0.8074 - acc: 0.6735 - val_loss: 0.9175 - val_acc: 0.6281\n",
      "Epoch 169/200\n",
      "37831/37831 [==============================] - 125s 3ms/step - loss: 0.8048 - acc: 0.6758 - val_loss: 0.9174 - val_acc: 0.6297\n",
      "Epoch 170/200\n",
      "37831/37831 [==============================] - 125s 3ms/step - loss: 0.8102 - acc: 0.6739 - val_loss: 0.9174 - val_acc: 0.6283\n",
      "Epoch 171/200\n",
      "37831/37831 [==============================] - 125s 3ms/step - loss: 0.8058 - acc: 0.6756 - val_loss: 0.9179 - val_acc: 0.6287\n",
      "Epoch 172/200\n",
      "37831/37831 [==============================] - 126s 3ms/step - loss: 0.8061 - acc: 0.6783 - val_loss: 0.9176 - val_acc: 0.6273\n",
      "Epoch 173/200\n",
      "37831/37831 [==============================] - 125s 3ms/step - loss: 0.8054 - acc: 0.6755 - val_loss: 0.9171 - val_acc: 0.6291\n",
      "Epoch 174/200\n",
      "37831/37831 [==============================] - 125s 3ms/step - loss: 0.8046 - acc: 0.6747 - val_loss: 0.9189 - val_acc: 0.6268\n",
      "Epoch 175/200\n"
     ]
    },
    {
     "name": "stdout",
     "output_type": "stream",
     "text": [
      "37831/37831 [==============================] - 125s 3ms/step - loss: 0.8034 - acc: 0.6776 - val_loss: 0.9179 - val_acc: 0.6275\n",
      "Epoch 176/200\n",
      "37831/37831 [==============================] - 125s 3ms/step - loss: 0.8064 - acc: 0.6784 - val_loss: 0.9177 - val_acc: 0.6286\n",
      "Epoch 177/200\n",
      "37831/37831 [==============================] - 125s 3ms/step - loss: 0.8020 - acc: 0.6779 - val_loss: 0.9179 - val_acc: 0.6286\n",
      "Epoch 178/200\n",
      "37831/37831 [==============================] - 125s 3ms/step - loss: 0.8051 - acc: 0.6761 - val_loss: 0.9187 - val_acc: 0.6285\n",
      "Epoch 179/200\n",
      "37831/37831 [==============================] - 125s 3ms/step - loss: 0.8047 - acc: 0.6758 - val_loss: 0.9195 - val_acc: 0.6281\n",
      "Epoch 180/200\n",
      "37831/37831 [==============================] - 125s 3ms/step - loss: 0.8039 - acc: 0.6782 - val_loss: 0.9198 - val_acc: 0.6277\n",
      "Epoch 181/200\n",
      "37831/37831 [==============================] - 125s 3ms/step - loss: 0.8034 - acc: 0.6772 - val_loss: 0.9190 - val_acc: 0.6276\n",
      "Epoch 182/200\n",
      "37831/37831 [==============================] - 123s 3ms/step - loss: 0.8036 - acc: 0.6778 - val_loss: 0.9197 - val_acc: 0.6280\n",
      "Epoch 183/200\n",
      "37831/37831 [==============================] - 126s 3ms/step - loss: 0.8055 - acc: 0.6760 - val_loss: 0.9185 - val_acc: 0.6287\n",
      "Epoch 184/200\n",
      "37831/37831 [==============================] - 126s 3ms/step - loss: 0.8022 - acc: 0.6781 - val_loss: 0.9194 - val_acc: 0.6274\n",
      "Epoch 185/200\n",
      "37831/37831 [==============================] - 126s 3ms/step - loss: 0.8033 - acc: 0.6767 - val_loss: 0.9183 - val_acc: 0.6286\n",
      "Epoch 186/200\n",
      "37831/37831 [==============================] - 126s 3ms/step - loss: 0.8024 - acc: 0.6786 - val_loss: 0.9192 - val_acc: 0.6283\n",
      "Epoch 187/200\n",
      "37831/37831 [==============================] - 126s 3ms/step - loss: 0.8039 - acc: 0.6750 - val_loss: 0.9185 - val_acc: 0.6273\n",
      "Epoch 188/200\n",
      "37831/37831 [==============================] - 126s 3ms/step - loss: 0.8023 - acc: 0.6779 - val_loss: 0.9190 - val_acc: 0.6281\n",
      "Epoch 189/200\n",
      "37831/37831 [==============================] - 126s 3ms/step - loss: 0.8039 - acc: 0.6771 - val_loss: 0.9186 - val_acc: 0.6278\n",
      "Epoch 190/200\n",
      "37831/37831 [==============================] - 126s 3ms/step - loss: 0.8022 - acc: 0.6770 - val_loss: 0.9194 - val_acc: 0.6282\n",
      "Epoch 191/200\n",
      "37831/37831 [==============================] - 125s 3ms/step - loss: 0.8018 - acc: 0.6791 - val_loss: 0.9193 - val_acc: 0.6277\n",
      "Epoch 192/200\n",
      "37831/37831 [==============================] - 127s 3ms/step - loss: 0.8011 - acc: 0.6795 - val_loss: 0.9189 - val_acc: 0.6280\n",
      "Epoch 193/200\n",
      "37831/37831 [==============================] - 126s 3ms/step - loss: 0.7998 - acc: 0.6800 - val_loss: 0.9200 - val_acc: 0.6284\n",
      "Epoch 194/200\n",
      "37831/37831 [==============================] - 127s 3ms/step - loss: 0.8011 - acc: 0.6776 - val_loss: 0.9196 - val_acc: 0.6280\n",
      "Epoch 195/200\n",
      "37831/37831 [==============================] - 121s 3ms/step - loss: 0.7996 - acc: 0.6783 - val_loss: 0.9209 - val_acc: 0.6263\n",
      "Epoch 196/200\n",
      "37831/37831 [==============================] - 121s 3ms/step - loss: 0.7994 - acc: 0.6794 - val_loss: 0.9201 - val_acc: 0.6274\n",
      "Epoch 197/200\n",
      "37831/37831 [==============================] - 125s 3ms/step - loss: 0.8016 - acc: 0.6792 - val_loss: 0.9194 - val_acc: 0.6279\n",
      "Epoch 198/200\n",
      "37831/37831 [==============================] - 126s 3ms/step - loss: 0.8009 - acc: 0.6783 - val_loss: 0.9194 - val_acc: 0.6280\n",
      "Epoch 199/200\n",
      "37831/37831 [==============================] - 126s 3ms/step - loss: 0.7988 - acc: 0.6778 - val_loss: 0.9211 - val_acc: 0.6280\n",
      "Epoch 200/200\n",
      "37831/37831 [==============================] - 126s 3ms/step - loss: 0.7989 - acc: 0.6792 - val_loss: 0.9203 - val_acc: 0.6284\n"
     ]
    },
    {
     "ename": "NameError",
     "evalue": "name 'pandas' is not defined",
     "output_type": "error",
     "traceback": [
      "\u001b[0;31m---------------------------------------------------------------------------\u001b[0m",
      "\u001b[0;31mNameError\u001b[0m                                 Traceback (most recent call last)",
      "\u001b[0;32m<ipython-input-17-3ddbc74504ce>\u001b[0m in \u001b[0;36m<module>\u001b[0;34m\u001b[0m\n\u001b[1;32m      4\u001b[0m           callbacks=[tensorboard, model_checkpoints])\n\u001b[1;32m      5\u001b[0m \u001b[0;34m\u001b[0m\u001b[0m\n\u001b[0;32m----> 6\u001b[0;31m \u001b[0mpandas\u001b[0m\u001b[0;34m.\u001b[0m\u001b[0mDataFrame\u001b[0m\u001b[0;34m(\u001b[0m\u001b[0mmodel_log\u001b[0m\u001b[0;34m.\u001b[0m\u001b[0mhistory\u001b[0m\u001b[0;34m)\u001b[0m\u001b[0;34m.\u001b[0m\u001b[0mto_csv\u001b[0m\u001b[0;34m(\u001b[0m\u001b[0;34m\"history-balance.csv\"\u001b[0m\u001b[0;34m)\u001b[0m\u001b[0;34m\u001b[0m\u001b[0m\n\u001b[0m",
      "\u001b[0;31mNameError\u001b[0m: name 'pandas' is not defined"
     ]
    }
   ],
   "source": [
    "print(\"Training Progress:\")\n",
    "model_log = model.fit(x_train, y_train, validation_data=(x_val, y_val),\n",
    "          epochs=200, batch_size=128,\n",
    "          callbacks=[tensorboard, model_checkpoints])\n"
   ]
  },
  {
   "cell_type": "code",
   "execution_count": 20,
   "metadata": {},
   "outputs": [],
   "source": [
    "import pandas as pd\n",
    "pd.DataFrame(model_log.history).to_csv(\"history-balance.csv\")"
   ]
  },
  {
   "cell_type": "markdown",
   "metadata": {},
   "source": [
    "## Model Testing and Inference"
   ]
  },
  {
   "cell_type": "code",
   "execution_count": 23,
   "metadata": {},
   "outputs": [],
   "source": [
    "from keras.models import load_model\n",
    "from sklearn.metrics import classification_report, confusion_matrix\n",
    "import matplotlib.pyplot as plt\n",
    "import numpy as np\n",
    "%config InlineBackend.figure_format = 'retina'\n",
    "import itertools, pickle\n",
    "\n",
    "with open('tokenizer.pickle', 'rb') as handle:\n",
    "    tokenizer = pickle.load(handle)\n",
    "\n",
    "classes = [\"neutral\", \"happy\", \"sad\", \"hate\",\"anger\"]"
   ]
  },
  {
   "cell_type": "code",
   "execution_count": 24,
   "metadata": {},
   "outputs": [
    {
     "name": "stdout",
     "output_type": "stream",
     "text": [
      "BalanceNet-1.0.ipynb       checkpoint-0.925.h5\r\n",
      "BalanceNet.h5              checkpoint-0.927.h5\r\n",
      "ClassMerge.ipynb           checkpoint-0.930.h5\r\n",
      "ExtraFunctions.ipynb       checkpoint-0.933.h5\r\n",
      "Keras_CNN.ipynb            checkpoint-0.941.h5\r\n",
      "Keras_CNN_Merge.ipynb      checkpoint-0.948.h5\r\n",
      "Keras_LSTM-C-Merge.ipynb   checkpoint-0.952.h5\r\n",
      "Keras_LSTM-C.ipynb         checkpoint-0.968.h5\r\n",
      "Keras_LSTM-Inception.ipynb checkpoint-0.985.h5\r\n",
      "Keras_LSTM.ipynb           checkpoint-1.010.h5\r\n",
      "ProcessData-Crawled.ipynb  checkpoint-1.066.h5\r\n",
      "ProcessData.ipynb          checkpoint-1.133.h5\r\n",
      "README.md                  data.csv\r\n",
      "Setup.ipynb                \u001b[34mdataset\u001b[m\u001b[m\r\n",
      "WideNet-1.0.ipynb          \u001b[34mexperiments\u001b[m\u001b[m\r\n",
      "_config.yml                history-balance.csv\r\n",
      "checkpoint-0.908.h5        \u001b[34mimages\u001b[m\u001b[m\r\n",
      "checkpoint-0.909.h5        \u001b[34mlogs\u001b[m\u001b[m\r\n",
      "checkpoint-0.910.h5        \u001b[34mraw_data\u001b[m\u001b[m\r\n",
      "checkpoint-0.911.h5        \u001b[31mrun_tensorboard.sh\u001b[m\u001b[m\r\n",
      "checkpoint-0.914.h5        \u001b[34msklearn_experiments\u001b[m\u001b[m\r\n",
      "checkpoint-0.917.h5        test_env.py\r\n",
      "checkpoint-0.918.h5        tokenizer.pickle\r\n",
      "checkpoint-0.922.h5        twitter_crawl.py\r\n",
      "checkpoint-0.923.h5\r\n"
     ]
    }
   ],
   "source": [
    "! ls"
   ]
  },
  {
   "cell_type": "code",
   "execution_count": 38,
   "metadata": {},
   "outputs": [],
   "source": [
    "#model_test = load_model('checkpoint-0.866.h5')\n",
    "model_test = load_model('checkpoint-0.908.h5')\n",
    "Y_test = np.argmax(y_val, axis=1) # Convert one-hot to index\n",
    "y_pred = model_test.predict(x_val)\n",
    "y_pred_class = np.argmax(y_pred,axis=1)\n",
    "cnf_matrix = confusion_matrix(Y_test, y_pred_class)"
   ]
  },
  {
   "cell_type": "code",
   "execution_count": 39,
   "metadata": {},
   "outputs": [
    {
     "name": "stdout",
     "output_type": "stream",
     "text": [
      "              precision    recall  f1-score   support\n",
      "\n",
      "     neutral       0.48      0.43      0.45      1918\n",
      "       happy       0.66      0.71      0.68      3255\n",
      "         sad       0.63      0.66      0.65      3221\n",
      "        hate       0.81      0.66      0.73       849\n",
      "       anger       0.90      0.69      0.78       214\n",
      "\n",
      "   micro avg       0.63      0.63      0.63      9457\n",
      "   macro avg       0.70      0.63      0.66      9457\n",
      "weighted avg       0.63      0.63      0.63      9457\n",
      "\n"
     ]
    }
   ],
   "source": [
    "print(classification_report(Y_test, y_pred_class, target_names=classes))"
   ]
  },
  {
   "cell_type": "code",
   "execution_count": 40,
   "metadata": {},
   "outputs": [
    {
     "data": {
      "image/png": "[encoded data removed]",
      "text/plain": [
       "<Figure size 1440x720 with 2 Axes>"
      ]
     },
     "metadata": {
      "image/png": {
       "height": 725,
       "width": 839
      },
      "needs_background": "light"
     },
     "output_type": "display_data"
    }
   ],
   "source": [
    "def plot_confusion_matrix(cm, labels,\n",
    "                          normalize=True,\n",
    "                          title='Confusion Matrix (Validation Set)',\n",
    "                          cmap=plt.cm.Blues):\n",
    "    \"\"\"\n",
    "    This function prints and plots the confusion matrix.\n",
    "    Normalization can be applied by setting `normalize=True`.\n",
    "    \"\"\"\n",
    "    if normalize:\n",
    "        cm = cm.astype('float') / cm.sum(axis=1)[:, np.newaxis]\n",
    "        #print(\"Normalized confusion matrix\")\n",
    "    else:\n",
    "        #print('Confusion matrix, without normalization')\n",
    "        pass\n",
    "\n",
    "    #print(cm)\n",
    "\n",
    "    plt.imshow(cm, interpolation='nearest', cmap=cmap)\n",
    "    plt.title(title)\n",
    "    plt.colorbar()\n",
    "    tick_marks = np.arange(len(labels))\n",
    "    plt.xticks(tick_marks, labels, rotation=45)\n",
    "    plt.yticks(tick_marks, labels)\n",
    "\n",
    "    fmt = '.2f' if normalize else 'd'\n",
    "    thresh = cm.max() / 2.\n",
    "    for i, j in itertools.product(range(cm.shape[0]), range(cm.shape[1])):\n",
    "        plt.text(j, i, format(cm[i, j], fmt),\n",
    "                 horizontalalignment=\"center\",\n",
    "                 color=\"white\" if cm[i, j] > thresh else \"black\")\n",
    "\n",
    "    plt.tight_layout()\n",
    "    plt.ylabel('True label')\n",
    "    plt.xlabel('Predicted label')\n",
    "\n",
    "plt.figure(figsize=(20,10))\n",
    "plot_confusion_matrix(cnf_matrix, labels=classes)\n"
   ]
  },
  {
   "cell_type": "code",
   "execution_count": 58,
   "metadata": {},
   "outputs": [],
   "source": [
    "text = [\"I salute you for the bravery and sacrifice! A true hero indeed.\",\n",
    "        \"Light travels faster than sound. This is why some people appear bright until they speak\",\n",
    "        \"I feel so miserable without you, it’s almost like having you here.\",\n",
    "        \"I am sorry but I trust HRW I damned sight more than the PAP and it's cronies! Off course the PAP will say that they (HRW) made things up...despite of the fact that SG is a dictator state!?\",\n",
    "        \n",
    "        \"Sanyam loathes Aman\",\n",
    "        \"Thought he sold his kidney to buy it; Instead, he bought a kidney then bought the car Filthy rich This is why we need communism\",\n",
    "        \"Somebody needs to water Tharman's head, hair needs to be grown there\",\n",
    "        \"what a nuisance fk. a proper clean and flat footpath,,now obstructed by sharedbikes..! which idiotic MP allowed this to happen?\",\n",
    "        \"What baby bonus scheme ??? To grow up a kid in Singapore you think is easy now bo ??? Both parent need to work to grow up a kid until 21 , you think tats easy bo ??? Think la\"\n",
    "       ]"
   ]
  },
  {
   "cell_type": "code",
   "execution_count": 59,
   "metadata": {},
   "outputs": [
    {
     "name": "stdout",
     "output_type": "stream",
     "text": [
      "I salute you for the bravery and sacrifice! A true hero indeed. \n",
      "Prediction: happy \n",
      "\n",
      "Light travels faster than sound. This is why some people appear bright until they speak \n",
      "Prediction: neutral \n",
      "\n",
      "I feel so miserable without you, it’s almost like having you here. \n",
      "Prediction: sad \n",
      "\n",
      "I am sorry but I trust HRW I damned sight more than the PAP and it's cronies! Off course the PAP will say that they (HRW) made things up...despite of the fact that SG is a dictator state!? \n",
      "Prediction: happy \n",
      "\n",
      "Sanyam loathes Aman \n",
      "Prediction: neutral \n",
      "\n",
      "Thought he sold his kidney to buy it; Instead, he bought a kidney then bought the car Filthy rich This is why we need communism \n",
      "Prediction: sad \n",
      "\n",
      "Somebody needs to water Tharman's head, hair needs to be grown there \n",
      "Prediction: sad \n",
      "\n",
      "what a nuisance fk. a proper clean and flat footpath,,now obstructed by sharedbikes..! which idiotic MP allowed this to happen? \n",
      "Prediction: neutral \n",
      "\n",
      "What baby bonus scheme ??? To grow up a kid in Singapore you think is easy now bo ??? Both parent need to work to grow up a kid until 21 , you think tats easy bo ??? Think la \n",
      "Prediction: sad \n",
      "\n"
     ]
    }
   ],
   "source": [
    "sequences_test = tokenizer.texts_to_sequences(text)\n",
    "data_int_t = pad_sequences(sequences_test, padding='pre', maxlen=(MAX_SEQUENCE_LENGTH-5))\n",
    "data_test = pad_sequences(data_int_t, padding='post', maxlen=(MAX_SEQUENCE_LENGTH))\n",
    "y_prob = model.predict(data_test)\n",
    "for n, prediction in enumerate(y_prob):\n",
    "    pred = y_prob.argmax(axis=-1)[n]\n",
    "    print(text[n],\"\\nPrediction:\",classes[pred],\"\\n\")"
   ]
  },
  {
   "cell_type": "code",
   "execution_count": 43,
   "metadata": {},
   "outputs": [
    {
     "data": {
      "text/plain": [
       "array([   1, 6097,    5,   12,    3,    6, 4841,    4,  515, 1476, 1238])"
      ]
     },
     "execution_count": 43,
     "metadata": {},
     "output_type": "execute_result"
    }
   ],
   "source": [
    "np.array(sequences_test[0])"
   ]
  },
  {
   "cell_type": "code",
   "execution_count": null,
   "metadata": {},
   "outputs": [],
   "source": []
  }
 ],
 "metadata": {
  "kernelspec": {
   "display_name": "Python 3",
   "language": "python",
   "name": "python3"
  },
  "language_info": {
   "codemirror_mode": {
    "name": "ipython",
    "version": 3
   },
   "file_extension": ".py",
   "mimetype": "text/x-python",
   "name": "python",
   "nbconvert_exporter": "python",
   "pygments_lexer": "ipython3",
   "version": "3.6.5"
  }
 },
 "nbformat": 4,
 "nbformat_minor": 2
}
